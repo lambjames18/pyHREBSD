{
 "cells": [
  {
   "cell_type": "code",
   "execution_count": 3,
   "metadata": {},
   "outputs": [],
   "source": [
    "import numpy as np\n",
    "import imageio.v3 as iio\n",
    "import os\n",
    "import HREBSD as hr\n",
    "import utilities as ut\n",
    "import matplotlib.pyplot as plt\n",
    "\n",
    "# Load the data\n",
    "folder = \"D:/Research/CoNi67/Data/HREBSD/\"\n",
    "paths = [f for f in os.listdir(folder) if f.endswith('.tif')]\n",
    "data = np.zeros((10, 10, 1024, 1024), dtype=np.uint16)\n",
    "for path in paths:\n",
    "    pat = iio.imread(folder + path)\n",
    "    pos_info = path.replace(\".tif\", \"\").split(\"_\")\n",
    "    if \"x\" in pos_info[0]:\n",
    "        x = int(pos_info[0].replace(\"x\", \"\"))\n",
    "        y = int(pos_info[1].replace(\"y\", \"\"))\n",
    "    else:\n",
    "        x = int(pos_info[1].replace(\"x\", \"\"))\n",
    "        y = int(pos_info[0].replace(\"y\", \"\"))\n",
    "    data[y, x] = pat\n",
    "\n",
    "PC = (0.492224, 0.546017, 0.971476)\n",
    "delta = 6.5\n",
    "N = (2048, 2048)\n",
    "PC = ut.convert_pc(PC, N, delta)"
   ]
  },
  {
   "cell_type": "code",
   "execution_count": 2,
   "metadata": {},
   "outputs": [
    {
     "name": "stdout",
     "output_type": "stream",
     "text": [
      "(array([[2.37643233e+08-0.0293123j , 5.41245670e+08-0.01444273j,\n",
      "        8.60907768e+08-0.04251719j, ..., 6.67959665e+08-0.02012568j,\n",
      "        3.86237465e+08-0.01827766j, 1.62920010e+08-0.0453287j ],\n",
      "       [3.98774950e+08-0.02944955j, 9.14727314e+08-0.01460103j,\n",
      "        1.45852061e+09-0.04261828j, ..., 1.15953391e+09-0.02023599j,\n",
      "        7.42224372e+08-0.018426j  , 2.95061254e+08-0.04544367j],\n",
      "       [6.81086406e+08-0.02977512j, 1.41306286e+09-0.01486019j,\n",
      "        2.22577093e+09-0.04284103j, ..., 1.79749331e+09-0.02047732j,\n",
      "        1.12763391e+09-0.01868355j, 4.91366749e+08-0.04564322j],\n",
      "       ...,\n",
      "       [1.76852484e+09-0.02871762j, 3.78564811e+09-0.013933j  ,\n",
      "        6.44393255e+09-0.04204196j, ..., 5.05832338e+09-0.01974168j,\n",
      "        2.74839117e+09-0.01758149j, 1.47004405e+09-0.04495985j],\n",
      "       [7.84700298e+08-0.02893935j, 1.65814392e+09-0.01403611j,\n",
      "        3.05567082e+09-0.04229355j, ..., 2.97543590e+09-0.01982534j,\n",
      "        1.37279924e+09-0.01782385j, 7.00962082e+08-0.04511159j],\n",
      "       [1.84943862e+08-0.02910179j, 3.73336707e+08-0.01429892j,\n",
      "        7.81901895e+08-0.04241633j, ..., 8.50851516e+08-0.02000197j,\n",
      "        3.14345633e+08-0.01803648j, 1.51137908e+08-0.04520759j]]), (1092, 1023))\n"
     ]
    }
   ],
   "source": [
    "ref = data[0, 0]\n",
    "exp = data[0, 1]\n",
    "out = hr.cross_correlation_function(ref, exp)\n",
    "print(out)"
   ]
  },
  {
   "cell_type": "code",
   "execution_count": null,
   "metadata": {},
   "outputs": [],
   "source": []
  }
 ],
 "metadata": {
  "kernelspec": {
   "display_name": "3D",
   "language": "python",
   "name": "python3"
  },
  "language_info": {
   "codemirror_mode": {
    "name": "ipython",
    "version": 3
   },
   "file_extension": ".py",
   "mimetype": "text/x-python",
   "name": "python",
   "nbconvert_exporter": "python",
   "pygments_lexer": "ipython3",
   "version": "3.10.9"
  },
  "orig_nbformat": 4
 },
 "nbformat": 4,
 "nbformat_minor": 2
}
