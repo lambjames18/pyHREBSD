{
 "cells": [
  {
   "cell_type": "code",
   "execution_count": 1,
   "metadata": {},
   "outputs": [],
   "source": [
    "import numpy as np\n",
    "import matplotlib.pyplot as plt\n",
    "from orix.quaternion import Orientation, symmetry\n",
    "from orix.plot import IPFColorKeyTSL\n",
    "from orix.vector import Vector3d\n",
    "\n",
    "import utilities\n",
    "import pyHREBSD\n",
    "\n",
    "%matplotlib widget"
   ]
  },
  {
   "cell_type": "code",
   "execution_count": 2,
   "metadata": {},
   "outputs": [
    {
     "name": "stdout",
     "output_type": "stream",
     "text": [
      "Scan data loaded\n",
      "File size: 5242.9 MB\n",
      "Pattern shape: (256, 256)\n",
      "Number of patterns: 40000\n",
      "Scan shape: (200, 200)\n",
      "Ang fields: ('x', 'y', 'iq', 'ci', 'phase_index', 'sem', 'fit', 'eulers', 'quats', 'shape', 'pc', 'pidx')\n"
     ]
    },
    {
     "data": {
      "application/vnd.jupyter.widget-view+json": {
       "model_id": "5d345c0fdb8b4d32a25efc3e957d0cf1",
       "version_major": 2,
       "version_minor": 0
      },
      "text/plain": [
       "Reading patterns:   0%|          | 0/40000 [00:00<?, ?pats/s]"
      ]
     },
     "metadata": {},
     "output_type": "display_data"
    },
    {
     "data": {
      "application/vnd.jupyter.widget-view+json": {
       "model_id": "6fdb5605859c409dbe6622f3e4533071",
       "version_major": 2,
       "version_minor": 0
      },
      "text/plain": [
       "Processing patterns:   0%|          | 0/10000 [00:00<?, ?pats/s]"
      ]
     },
     "metadata": {},
     "output_type": "display_data"
    },
    {
     "name": "stderr",
     "output_type": "stream",
     "text": [
      "c:\\Users\\lambj\\miniconda3\\envs\\hrebsd\\Lib\\site-packages\\kornia\\filters\\filter.py:129: UserWarning: Plan failed with a cudnnException: CUDNN_BACKEND_EXECUTION_PLAN_DESCRIPTOR: cudnnFinalize Descriptor Failed cudnn_status: CUDNN_STATUS_NOT_SUPPORTED (Triggered internally at C:\\cb\\pytorch_1000000000000\\work\\aten\\src\\ATen\\native\\cudnn\\Conv_v8.cpp:919.)\n",
      "  output = F.conv2d(input, tmp_kernel, groups=tmp_kernel.size(0), padding=0, stride=1)\n"
     ]
    },
    {
     "data": {
      "application/vnd.jupyter.widget-view+json": {
       "model_id": "6b7c622f70eb4a71a8852ebb0e577258",
       "version_major": 2,
       "version_minor": 0
      },
      "text/plain": [
       "Calculating sharpness:   0%|          | 0/40000 [00:00<?, ?pats/s]"
      ]
     },
     "metadata": {},
     "output_type": "display_data"
    }
   ],
   "source": [
    "# Load the scan data and print out some information\n",
    "# up2 = \"E:/cells/CoNi90-OrthoCells.up2\"\n",
    "# ang = \"E:/cells/CoNi90-OrthoCells.ang\"\n",
    "# name = \"CoNi90-OrthoCells\"\n",
    "up2 = \"E:/cells/CoNi90-ParallelCells.up2\"\n",
    "ang = \"E:/cells/CoNi90-ParallelCells.ang\"\n",
    "name = \"CoNi90-ParallelCells\"\n",
    "\n",
    "pixel_size = 13.0\n",
    "Nxy = (2048, 2048)\n",
    "\n",
    "pat_obj, ang_data = utilities.get_scan_data(up2, ang, Nxy, pixel_size)\n",
    "print(\"Scan data loaded\")\n",
    "print(\"File size:\", pat_obj.filesize)\n",
    "print(\"Pattern shape:\", pat_obj.patshape)\n",
    "print(\"Number of patterns:\", pat_obj.nPatterns)\n",
    "print(\"Scan shape:\", ang_data.shape)\n",
    "print(\"Ang fields:\", ang_data._fields)\n",
    "\n",
    "DoG_sigmas = (1.0, 10.0)\n",
    "\n",
    "pats = utilities.get_patterns(pat_obj).reshape(ang_data.shape + pat_obj.patshape)\n",
    "# utilities.test_bandpass(pats[0, 0])\n",
    "pats_processed = utilities.process_patterns(pats, equalize=True, dog_sigmas=DoG_sigmas)\n",
    "sharpness = utilities.get_sharpness(pats_processed)"
   ]
  },
  {
   "cell_type": "code",
   "execution_count": null,
   "metadata": {},
   "outputs": [],
   "source": [
    "ipfkey100 = IPFColorKeyTSL(symmetry.Oh, Vector3d((1, 0, 0)))\n",
    "ipf100 = ipfkey100.orientation2color(Orientation(ang_data.quats, symmetry.Oh))\n",
    "\n",
    "utilities.view(utilities.shade_ipf(ipf100, sharpness))\n",
    "plt.savefig(f\"./results/{name}_IPF100-sharpness.png\", dpi=300)\n",
    "utilities.view(sharpness, cmap=\"gray\")\n",
    "plt.savefig(f\"./results/{name}_sharpness.png\", dpi=300)\n",
    "utilities.view(ipf100)\n",
    "plt.savefig(f\"./results/{name}_IPF100.png\", dpi=300)"
   ]
  },
  {
   "cell_type": "code",
   "execution_count": null,
   "metadata": {},
   "outputs": [],
   "source": [
    "utilities.view(np.rot90(sharpness))"
   ]
  },
  {
   "cell_type": "code",
   "execution_count": 5,
   "metadata": {},
   "outputs": [],
   "source": [
    "# Set the reference pattern and the subset slice to use for the HREBSD analysis\n",
    "save_name = name + f\"_R100-115\"\n",
    "R = pats_processed[100, 115]\n",
    "subset_slice = (slice(10, -10), slice(10, -10))"
   ]
  },
  {
   "cell_type": "code",
   "execution_count": 6,
   "metadata": {},
   "outputs": [
    {
     "name": "stdout",
     "output_type": "stream",
     "text": [
      "There are enough targets to parallelize. Starting pool.\n"
     ]
    },
    {
     "name": "stderr",
     "output_type": "stream",
     "text": [
      "100%|██████████| 5714/5714 [29:21<00:00,  1.06s/it]\n"
     ]
    }
   ],
   "source": [
    "# Calculate the initial guesses for the HREBSD analysis\n",
    "p0 = pyHREBSD.get_initial_guess(R, pats_processed)\n",
    "np.save(f\"{save_name}_p0.npy\", p0)\n",
    "# p0 = np.load(f\"{save_name}_p0.npy\", p0)"
   ]
  },
  {
   "cell_type": "code",
   "execution_count": 7,
   "metadata": {},
   "outputs": [
    {
     "data": {
      "application/vnd.jupyter.widget-view+json": {
       "model_id": "36821670099a41da9ae2e4f3c7715d6e",
       "version_major": 2,
       "version_minor": 0
      },
      "text/plain": [
       "IC-GN:   0%|          | 0/40000 [00:00<?, ?targets/s]"
      ]
     },
     "metadata": {},
     "output_type": "display_data"
    }
   ],
   "source": [
    "# Run the HREBSD analysis using the initial guesses\n",
    "p = pyHREBSD.get_homography(R, pats_processed, subset_slice=subset_slice, p0=p0, max_iter=50, conv_tol=1e-7)\n",
    "np.save(f\"{save_name}_p.npy\", p)\n",
    "# p = np.load(f\"{save_name}_p.npy\")"
   ]
  },
  {
   "cell_type": "code",
   "execution_count": 8,
   "metadata": {},
   "outputs": [],
   "source": [
    "# Calculate the deviatoric deformation gradient tensor\n",
    "Fe = pyHREBSD.homography_to_elastic_deformation(p, ang_data.pc)\n",
    "\n",
    "# Calculate the strain tensor and the rotation tensor\n",
    "e, w = pyHREBSD.deformation_to_strain(Fe)"
   ]
  },
  {
   "cell_type": "code",
   "execution_count": 15,
   "metadata": {},
   "outputs": [],
   "source": [
    "import os\n",
    "\n",
    "\n",
    "# Save out the results\n",
    "xy = (100, 115) # The location of the reference point\n",
    "\n",
    "plt.close('all')\n",
    "utilities.view_tensor_images(np.rot90(Fe, axes=(0, 1)), tensor_type=\"deformation\", xy=xy, save_name=save_name, save_dir=\"results/\")\n",
    "utilities.view_tensor_images(np.rot90(e, axes=(0, 1)), tensor_type=\"strain\", xy=xy, save_name=save_name, save_dir=\"results/\", show=\"upper\")\n",
    "utilities.view_tensor_images(np.rot90(w, axes=(0, 1)), tensor_type=\"rotation\", xy=xy, save_name=save_name, save_dir=\"results/\", show=\"upper\")"
   ]
  },
  {
   "cell_type": "code",
   "execution_count": null,
   "metadata": {},
   "outputs": [],
   "source": []
  }
 ],
 "metadata": {
  "kernelspec": {
   "display_name": "3D",
   "language": "python",
   "name": "python3"
  },
  "language_info": {
   "codemirror_mode": {
    "name": "ipython",
    "version": 3
   },
   "file_extension": ".py",
   "mimetype": "text/x-python",
   "name": "python",
   "nbconvert_exporter": "python",
   "pygments_lexer": "ipython3",
   "version": "3.12.3"
  }
 },
 "nbformat": 4,
 "nbformat_minor": 2
}
